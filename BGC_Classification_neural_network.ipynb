{
  "nbformat": 4,
  "nbformat_minor": 0,
  "metadata": {
    "colab": {
      "provenance": [],
      "authorship_tag": "ABX9TyOAqZVSFAC0h2G7x5VodqqO",
      "include_colab_link": true
    },
    "kernelspec": {
      "name": "python3",
      "display_name": "Python 3"
    },
    "language_info": {
      "name": "python"
    }
  },
  "cells": [
    {
      "cell_type": "markdown",
      "metadata": {
        "id": "view-in-github",
        "colab_type": "text"
      },
      "source": [
        "<a href=\"https://colab.research.google.com/github/AhmedAboushanab/Ph.D./blob/main/BGC_Classification_neural_network.ipynb\" target=\"_parent\"><img src=\"https://colab.research.google.com/assets/colab-badge.svg\" alt=\"Open In Colab\"/></a>"
      ]
    },
    {
      "cell_type": "code",
      "execution_count": null,
      "metadata": {
        "id": "Y__Zsg6oC5lP"
      },
      "outputs": [],
      "source": [
        "import numpy as np\n",
        "import pandas as pd\n",
        "from sklearn.model_selection import train_test_split\n",
        "from sklearn.preprocessing import StandardScaler\n",
        "from tensorflow.keras.models import Sequential\n",
        "from tensorflow.keras.layers import Dense, Dropout\n",
        "from sklearn.metrics import classification_report, accuracy_score\n",
        "\n",
        "# Step 1: Prepare Features and Labels\n",
        "# Extracted features from the manual pattern analysis\n",
        "data = {\n",
        "    \"AT_domains\": [6488],\n",
        "    \"A_domains\": [18673],\n",
        "    \"Regulatory_motifs\": [3255],\n",
        "    \"Transporter_motifs\": [47325],\n",
        "    \"GC_content\": [32.87],\n",
        "    \"Sequence_length\": [2821361]\n",
        "}\n",
        "\n",
        "# Labels (1 = BGC, 0 = non-BGC) - This is a placeholder for demonstration purposes\n",
        "# For a real dataset, you would need labeled training data from tools like antiSMASH or BiG-FAM\n",
        "labels = [1]  # Assuming this is a BGC for demonstration purposes\n",
        "\n",
        "# Convert to a DataFrame\n",
        "features = pd.DataFrame(data)\n",
        "\n",
        "# Step 2: Split Data into Train/Test Sets\n",
        "# Note: This is a placeholder; normally, you'd use a larger labeled dataset\n",
        "X_train, X_test, y_train, y_test = train_test_split(features, labels, test_size=0.2, random_state=42)\n",
        "\n",
        "# Scale the data\n",
        "scaler = StandardScaler()\n",
        "X_train_scaled = scaler.fit_transform(X_train)\n",
        "X_test_scaled = scaler.transform(X_test)\n",
        "\n",
        "# Step 3: Build a Neural Network Model\n",
        "model = Sequential([\n",
        "    Dense(128, activation='relu', input_shape=(X_train_scaled.shape[1],)),\n",
        "    Dropout(0.3),\n",
        "    Dense(64, activation='relu'),\n",
        "    Dropout(0.3),\n",
        "    Dense(1, activation='sigmoid')\n",
        "])\n",
        "\n",
        "# Compile the model\n",
        "model.compile(optimizer='adam', loss='binary_crossentropy', metrics=['accuracy'])\n",
        "\n",
        "# Step 4: Train the Model\n",
        "model.fit(X_train_scaled, y_train, epochs=50, batch_size=8, verbose=1)\n",
        "\n",
        "# Step 5: Make Predictions\n",
        "predictions = (model.predict(X_test_scaled) > 0.5).astype(int)\n",
        "\n",
        "# Step 6: Evaluate the Model\n",
        "accuracy = accuracy_score(y_test, predictions)\n",
        "report = classification_report(y_test, predictions, target_names=[\"Non-BGC\", \"BGC\"])\n",
        "\n",
        "# Output Results\n",
        "print(\"Model Accuracy:\", accuracy)\n",
        "print(\"Classification Report:\\n\", report)\n"
      ]
    }
  ]
}
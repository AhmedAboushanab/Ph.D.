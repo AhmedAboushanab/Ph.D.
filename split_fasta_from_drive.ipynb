{
  "nbformat": 4,
  "nbformat_minor": 0,
  "metadata": {
    "colab": {
      "provenance": [],
      "mount_file_id": "1B9rmTTFBu6FYb4pXHIuvY4oDaTEazwyT",
      "authorship_tag": "ABX9TyPgiVJMST00P8dRH+bVelMf",
      "include_colab_link": true
    },
    "kernelspec": {
      "name": "python3",
      "display_name": "Python 3"
    },
    "language_info": {
      "name": "python"
    }
  },
  "cells": [
    {
      "cell_type": "markdown",
      "metadata": {
        "id": "view-in-github",
        "colab_type": "text"
      },
      "source": [
        "<a href=\"https://colab.research.google.com/github/AhmedAboushanab/Ph.D./blob/main/split_fasta_from_drive.ipynb\" target=\"_parent\"><img src=\"https://colab.research.google.com/assets/colab-badge.svg\" alt=\"Open In Colab\"/></a>"
      ]
    },
    {
      "cell_type": "code",
      "metadata": {
        "id": "8e9d1db4"
      },
      "source": [
        "!pip install biopython"
      ],
      "execution_count": null,
      "outputs": []
    },
    {
      "cell_type": "code",
      "source": [
        "from Bio import SeqIO\n",
        "import os\n",
        "import re\n",
        "\n",
        "def sanitize_filename(name):\n",
        "    return re.sub(r'[^\\w\\-_.]', '_', name)\n",
        "\n",
        "def split_all_fastas_in_folder(input_folder, output_folder):\n",
        "    os.makedirs(output_folder, exist_ok=True)\n",
        "\n",
        "    for fasta_file in os.listdir(input_folder):\n",
        "        if fasta_file.endswith(\".fasta\") or fasta_file.endswith(\".fa\"):\n",
        "            input_path = os.path.join(input_folder, fasta_file)\n",
        "            base_name = os.path.splitext(fasta_file)[0]\n",
        "            output_subfolder = os.path.join(output_folder, base_name)\n",
        "            os.makedirs(output_subfolder, exist_ok=True)\n",
        "\n",
        "            print(f\"\\n🧬 Splitting sequences from: {fasta_file}\")\n",
        "\n",
        "            for record in SeqIO.parse(input_path, \"fasta\"):\n",
        "                full_header = record.description.strip()\n",
        "                safe_name = sanitize_filename(full_header)\n",
        "                output_path = os.path.join(output_subfolder, f\"{safe_name}.fasta\")\n",
        "\n",
        "                with open(output_path, \"w\") as f:\n",
        "                    SeqIO.write(record, f, \"fasta\")\n",
        "\n",
        "                print(f\"  ✅ Saved: {output_path}\")\n",
        "\n",
        "# ✅ Example usage in Google Colab:\n",
        "# from google.colab import drive\n",
        "# drive.mount('/content/drive')\n",
        "\n",
        "# split_all_fastas_in_folder(\n",
        "#     input_folder=\"/content/drive/MyDrive/input_fastas\",\n",
        "#     output_folder=\"/content/drive/MyDrive/split_fastas\"\n",
        "# )\n"
      ],
      "metadata": {
        "id": "LvIhSvf2hoNR"
      },
      "execution_count": 9,
      "outputs": []
    },
    {
      "cell_type": "code",
      "source": [
        "split_all_fastas_in_folder(\"/content/drive/MyDrive/NRPS-Output\", \"/content/drive/MyDrive/NRPS-Single-Sequences\")"
      ],
      "metadata": {
        "id": "3W0dSJl_hrdQ"
      },
      "execution_count": null,
      "outputs": []
    }
  ]
}